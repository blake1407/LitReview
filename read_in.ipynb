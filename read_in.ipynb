{
 "cells": [
  {
   "cell_type": "code",
   "execution_count": 155,
   "metadata": {},
   "outputs": [],
   "source": [
    "from pypdf import PdfReader\n",
    "from pathlib import Path\n",
    "import pandas as pd\n",
    "import numpy as np\n",
    "import glob, os\n",
    "import re"
   ]
  },
  {
   "cell_type": "code",
   "execution_count": 156,
   "metadata": {},
   "outputs": [],
   "source": [
    "data_df = pd.DataFrame()\n",
    "\n",
    "pdf_search = Path(\"test\").glob(\"*.pdf\")\n",
    "pdf_files = pdf_files = [str(file) for file in pdf_search]"
   ]
  },
  {
   "cell_type": "code",
   "execution_count": 157,
   "metadata": {},
   "outputs": [
    {
     "name": "stdout",
     "output_type": "stream",
     "text": [
      "Number of pages: \n",
      "10\n",
      "Number of pages: \n",
      "7\n",
      "Number of pages: \n",
      "12\n",
      "Number of pages: \n",
      "15\n"
     ]
    }
   ],
   "source": [
    "data_df = pd.DataFrame()\n",
    "\n",
    "pdf_search = Path(\"test\").glob(\"*.pdf\")\n",
    "pdf_files = pdf_files = [str(file) for file in pdf_search]\n",
    "\n",
    "def parse(file: str):\n",
    "    reader = PdfReader(file)\n",
    "\n",
    "    # printing number of pages in pdf file\n",
    "    print(\"Number of pages: \")\n",
    "    print(len(reader.pages))\n",
    "\n",
    "    # creating a page object\n",
    "    # page = reader.pages[0]\n",
    "\n",
    "    for i in range (len(reader.pages)):\n",
    "        page = reader.pages[i]\n",
    "        text = page.extract_text()\n",
    "        text = page.extract_text().replace(\"\\n\", \" \").strip() \n",
    "        # print(page.extract_text())\n",
    "\n",
    "        if i == 0: #collecting metadata\n",
    "            if \"doi\" in text:\n",
    "                doi = re.findall(r\"^\\S+\", text)\n",
    "                data_df[\"DOI\"] = doi\n",
    "            \n",
    "            # pattern = r\"(?:[A-Za-z ]+\\s(?:\\(\\d{4}\\)|\\d{4});?\\s?\\d+(?:,\\s\\d+)?|[A-Za-z]+\\s\\(\\d{4}\\)),?\\s?\\d{1,4}(?:–|[-–])\\d{1,4}\"\n",
    "            pattern = r\"[A-Za-z ]+\\s\\(?\\d{4}\\)?[;,]?\\s?\\d+[–\\-]?\\d+\"\n",
    "            journal = re.findall(pattern, text)\n",
    "            if journal:\n",
    "                data_df[\"Journal\"] = journal\n",
    "            else:\n",
    "                data_df[\"Journal\"] = [\"No matches found\"] * len(data_df)\n",
    "\n",
    "def main():\n",
    "    for file in pdf_files:\n",
    "        parse(file)\n",
    "    \n",
    "if __name__ == \"__main__\":\n",
    "    main()\n"
   ]
  },
  {
   "cell_type": "code",
   "execution_count": 164,
   "metadata": {},
   "outputs": [
    {
     "name": "stdout",
     "output_type": "stream",
     "text": [
      "Number of pages in test/example4.pdf: 10\n",
      "Number of pages in test/example2.pdf: 7\n",
      "Number of pages in test/example3.pdf: 12\n",
      "Number of pages in test/example1.pdf: 15\n",
      "                                      DOI                      Journal\n",
      "0                       10.1002/ana.20653             No matches found\n",
      "1                            No DOI found             No matches found\n",
      "2  10.1016/j.neuropsychologia.2010.04.021                CA 95618-5412\n",
      "3                    10.1093/brain/awh400   Brain (2005), 128, 773–787\n"
     ]
    }
   ],
   "source": [
    "def parse(file: str, records):\n",
    "    reader = PdfReader(file)\n",
    "    print(f\"Number of pages in {file}: {len(reader.pages)}\")\n",
    "\n",
    "    for i in range(len(reader.pages)):\n",
    "        page = reader.pages[i]\n",
    "        text = page.extract_text().replace(\"\\n\", \" \").strip()\n",
    "        \n",
    "        if i == 0:  # Collecting metadata from the first page\n",
    "            doi = re.findall(r\"\\b10\\.\\d{4,9}/\\S+\\b\", text)\n",
    "            pattern = r\"[A-Za-z ]+\\s\\(?\\d{4}\\)?[;,]?\\s?\\d+(?:[:,]\\s?\\d+)?(?:–|\\-)\\d+\"\n",
    "            journal = re.findall(pattern, text)\n",
    "\n",
    "            records.append({\n",
    "                \"DOI\": doi[0] if doi else \"No DOI found\",\n",
    "                \"Journal\": journal[0] if journal else \"No matches found\"\n",
    "            })\n",
    "    return records\n",
    "\n",
    "def main():\n",
    "    pdf_search = Path(\"test\").glob(\"*.pdf\")\n",
    "    pdf_files = [str(file) for file in pdf_search]\n",
    "\n",
    "    if not pdf_files:\n",
    "        print(\"No PDF files found in the directory!\")\n",
    "        return\n",
    "\n",
    "    records = []\n",
    "    for file in pdf_files:\n",
    "        records = parse(file, records)\n",
    "    \n",
    "    # Convert collected records into a DataFrame\n",
    "    data_df = pd.DataFrame(records)\n",
    "    print(data_df)\n",
    "\n",
    "if __name__ == \"__main__\":\n",
    "    main()\n"
   ]
  }
 ],
 "metadata": {
  "kernelspec": {
   "display_name": "Python 3",
   "language": "python",
   "name": "python3"
  },
  "language_info": {
   "codemirror_mode": {
    "name": "ipython",
    "version": 3
   },
   "file_extension": ".py",
   "mimetype": "text/x-python",
   "name": "python",
   "nbconvert_exporter": "python",
   "pygments_lexer": "ipython3",
   "version": "3.12.1"
  }
 },
 "nbformat": 4,
 "nbformat_minor": 2
}
